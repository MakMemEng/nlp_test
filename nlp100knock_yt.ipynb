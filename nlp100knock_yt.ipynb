{
 "cells": [
  {
   "cell_type": "code",
   "execution_count": 1,
   "metadata": {},
   "outputs": [],
   "source": [
    "import MeCab\n",
    "from glob import glob"
   ]
  },
  {
   "cell_type": "code",
   "execution_count": 2,
   "metadata": {},
   "outputs": [],
   "source": [
    "txt = '''はじめまして、私はMakMemEngです。\n",
    "Pythonで自然言語処理を学習しています。\n",
    "MeCabやCaboChaを用いて手軽に分析してみたいと思います。\n",
    "では早速はじめていきます。'''"
   ]
  },
  {
   "cell_type": "code",
   "execution_count": null,
   "metadata": {},
   "outputs": [],
   "source": [
    "with open('output.txt', 'x') as f:\n",
    "    f.write(txt)"
   ]
  },
  {
   "cell_type": "code",
   "execution_count": 4,
   "metadata": {},
   "outputs": [
    {
     "data": {
      "text/plain": [
       "['output.txt']"
      ]
     },
     "execution_count": 4,
     "metadata": {},
     "output_type": "execute_result"
    }
   ],
   "source": [
    "filepaths = glob('*.txt')\n",
    "filepaths"
   ]
  },
  {
   "cell_type": "code",
   "execution_count": 5,
   "metadata": {},
   "outputs": [],
   "source": [
    "filepath = filepaths[0]"
   ]
  },
  {
   "cell_type": "code",
   "execution_count": 6,
   "metadata": {},
   "outputs": [],
   "source": [
    "with open(filepath, 'r') as f:\n",
    "    txt = f.read()"
   ]
  },
  {
   "cell_type": "code",
   "execution_count": 7,
   "metadata": {},
   "outputs": [
    {
     "data": {
      "text/plain": [
       "'はじめまして、私はMakMemEngです。\\nPythonで自然言語処理を学習しています。\\nMeCabやCaboChaを用いて手軽に分析してみたいと思います。\\nでは早速はじめていきます。'"
      ]
     },
     "execution_count": 7,
     "metadata": {},
     "output_type": "execute_result"
    }
   ],
   "source": [
    "txt"
   ]
  },
  {
   "cell_type": "code",
   "execution_count": 8,
   "metadata": {},
   "outputs": [
    {
     "name": "stdout",
     "output_type": "stream",
     "text": [
      "はじめ\tハジメ\tハジメル\t始める\t動詞-非自立可能\t下一段-マ行\t連用形-一般\t0\n",
      "まし\tマシ\tマス\tます\t助動詞\t助動詞-マス\t連用形-一般\t\n",
      "て\tテ\tテ\tて\t助詞-接続助詞\t\t\t\n",
      "、\t\t\t、\t補助記号-読点\t\t\t\n",
      "私\tワタクシ\tワタクシ\t私-代名詞\t代名詞\t\t\t0\n",
      "は\tワ\tハ\tは\t助詞-係助詞\t\t\t\n",
      "MakMemEng\tMakMemEng\tMakMemEng\tMakMemEng\t名詞-普通名詞-一般\t\t\t0\n",
      "です\tデス\tデス\tです\t助動詞\t助動詞-デス\t終止形-一般\t\n",
      "。\t\t\t。\t補助記号-句点\t\t\t\n",
      "Python\tPython\tPython\tPython\t名詞-普通名詞-一般\t\t\t0\n",
      "で\tデ\tデ\tで\t助詞-格助詞\t\t\t\n",
      "自然\tシゼン\tシゼン\t自然\t名詞-普通名詞-一般\t\t\t0\n",
      "言語\tゲンゴ\tゲンゴ\t言語\t名詞-普通名詞-一般\t\t\t1\n",
      "処理\tショリ\tショリ\t処理\t名詞-普通名詞-サ変可能\t\t\t1\n",
      "を\tオ\tヲ\tを\t助詞-格助詞\t\t\t\n",
      "学習\tガクシュー\tガクシュウ\t学習\t名詞-普通名詞-サ変可能\t\t\t0\n",
      "し\tシ\tスル\t為る\t動詞-非自立可能\tサ行変格\t連用形-一般\t0\n",
      "て\tテ\tテ\tて\t助詞-接続助詞\t\t\t\n",
      "い\tイ\tイル\t居る\t動詞-非自立可能\t上一段-ア行\t連用形-一般\t0\n",
      "ます\tマス\tマス\tます\t助動詞\t助動詞-マス\t終止形-一般\t\n",
      "。\t\t\t。\t補助記号-句点\t\t\t\n",
      "MeCab\tMeCab\tMeCab\tMeCab\t名詞-普通名詞-一般\t\t\t0\n",
      "や\tヤ\tヤ\tや\t助詞-副助詞\t\t\t\n",
      "CaboCha\tCaboCha\tCaboCha\tCaboCha\t名詞-普通名詞-一般\t\t\t0\n",
      "を\tオ\tヲ\tを\t助詞-格助詞\t\t\t\n",
      "用い\tモチー\tモチイル\t用いる\t動詞-一般\t上一段-ア行\t連用形-一般\t3,0\n",
      "て\tテ\tテ\tて\t助詞-接続助詞\t\t\t\n",
      "手軽\tテガル\tテガル\t手軽\t形状詞-一般\t\t\t0\n",
      "に\tニ\tダ\tだ\t助動詞\t助動詞-ダ\t連用形-ニ\t\n",
      "分析\tブンセキ\tブンセキ\t分析\t名詞-普通名詞-サ変可能\t\t\t0\n",
      "し\tシ\tスル\t為る\t動詞-非自立可能\tサ行変格\t連用形-一般\t0\n",
      "て\tテ\tテ\tて\t助詞-接続助詞\t\t\t\n",
      "み\tミ\tミル\t見る\t動詞-非自立可能\t上一段-マ行\t連用形-一般\t1\n",
      "たい\tタイ\tタイ\tたい\t助動詞\t助動詞-タイ\t終止形-一般\t\n",
      "と\tト\tト\tと\t助詞-格助詞\t\t\t\n",
      "思い\tオモイ\tオモウ\t思う\t動詞-一般\t五段-ワア行\t連用形-一般\t2\n",
      "ます\tマス\tマス\tます\t助動詞\t助動詞-マス\t終止形-一般\t\n",
      "。\t\t\t。\t補助記号-句点\t\t\t\n",
      "で\tデ\tデ\tで\t助詞-格助詞\t\t\t\n",
      "は\tワ\tハ\tは\t助詞-係助詞\t\t\t\n",
      "早速\tサッソク\tサッソク\t早速\t副詞\t\t\t0\n",
      "はじめ\tハジメ\tハジメル\t始める\t動詞-非自立可能\t下一段-マ行\t連用形-一般\t0\n",
      "て\tテ\tテ\tて\t助詞-接続助詞\t\t\t\n",
      "いき\tイキ\tイク\t行く\t動詞-非自立可能\t五段-カ行\t連用形-一般\t0\n",
      "ます\tマス\tマス\tます\t助動詞\t助動詞-マス\t終止形-一般\t\n",
      "。\t\t\t。\t補助記号-句点\t\t\t\n",
      "EOS\n",
      "\n"
     ]
    }
   ],
   "source": [
    "tagger = MeCab.Tagger()\n",
    "print(tagger.parse(txt))"
   ]
  },
  {
   "cell_type": "code",
   "execution_count": null,
   "metadata": {},
   "outputs": [],
   "source": [
    "# RuntimeError: \n",
    "# ----------------------------------------------------------\n",
    "\n",
    "# Failed initializing MeCab. Please see the README for possible solutions:\n",
    "# ...\n",
    "# ------------------- ERROR DETAILS ------------------------\n",
    "# arguments: -Ochasen\n",
    "#  [!tmp.empty()] unkown format type [chasen]\n",
    "# ----------------------------------------------------------\n",
    "tagger = MeCab.Tagger('-Ochasen')\n",
    "print(tagger.parse(txt))"
   ]
  },
  {
   "cell_type": "code",
   "execution_count": 10,
   "metadata": {},
   "outputs": [
    {
     "name": "stdout",
     "output_type": "stream",
     "text": [
      "はじめ まし て 、 私 は MakMemEng です 。 Python で 自然 言語 処理 を 学習 し て い ます 。 MeCab や CaboCha を 用い て 手軽 に 分析 し て み たい と 思い ます 。 で は 早速 はじめ て いき ます 。 \n",
      "\n"
     ]
    }
   ],
   "source": [
    "tagger = MeCab.Tagger('-Owakati')\n",
    "print(tagger.parse(txt))"
   ]
  },
  {
   "cell_type": "code",
   "execution_count": null,
   "metadata": {},
   "outputs": [],
   "source": [
    "# RuntimeError:\n",
    "# ----------------------------------------------------------\n",
    "\n",
    "# Failed initializing MeCab. Please see the README for possible solutions:\n",
    "# ...\n",
    "# ------------------- ERROR DETAILS ------------------------\n",
    "# arguments: -Oyomi\n",
    "#  [!tmp.empty()] unkown format type [yomi]\n",
    "# ----------------------------------------------------------\n",
    "tagger = MeCab.Tagger('-Oyomi')\n",
    "print(tagger.parse(txt))"
   ]
  },
  {
   "cell_type": "code",
   "execution_count": 9,
   "metadata": {},
   "outputs": [
    {
     "data": {
      "text/plain": [
       "['はじめ\\tハジメ\\tハジメル\\t始める\\t動詞-非自立可能\\t下一段-マ行\\t連用形-一般\\t0',\n",
       " 'まし\\tマシ\\tマス\\tます\\t助動詞\\t助動詞-マス\\t連用形-一般\\t',\n",
       " 'て\\tテ\\tテ\\tて\\t助詞-接続助詞\\t\\t\\t',\n",
       " '、\\t\\t\\t、\\t補助記号-読点\\t\\t\\t',\n",
       " '私\\tワタクシ\\tワタクシ\\t私-代名詞\\t代名詞\\t\\t\\t0',\n",
       " 'は\\tワ\\tハ\\tは\\t助詞-係助詞\\t\\t\\t',\n",
       " 'MakMemEng\\tMakMemEng\\tMakMemEng\\tMakMemEng\\t名詞-普通名詞-一般\\t\\t\\t0',\n",
       " 'です\\tデス\\tデス\\tです\\t助動詞\\t助動詞-デス\\t終止形-一般\\t',\n",
       " '。\\t\\t\\t。\\t補助記号-句点\\t\\t\\t',\n",
       " 'Python\\tPython\\tPython\\tPython\\t名詞-普通名詞-一般\\t\\t\\t0',\n",
       " 'で\\tデ\\tデ\\tで\\t助詞-格助詞\\t\\t\\t',\n",
       " '自然\\tシゼン\\tシゼン\\t自然\\t名詞-普通名詞-一般\\t\\t\\t0',\n",
       " '言語\\tゲンゴ\\tゲンゴ\\t言語\\t名詞-普通名詞-一般\\t\\t\\t1',\n",
       " '処理\\tショリ\\tショリ\\t処理\\t名詞-普通名詞-サ変可能\\t\\t\\t1',\n",
       " 'を\\tオ\\tヲ\\tを\\t助詞-格助詞\\t\\t\\t',\n",
       " '学習\\tガクシュー\\tガクシュウ\\t学習\\t名詞-普通名詞-サ変可能\\t\\t\\t0',\n",
       " 'し\\tシ\\tスル\\t為る\\t動詞-非自立可能\\tサ行変格\\t連用形-一般\\t0',\n",
       " 'て\\tテ\\tテ\\tて\\t助詞-接続助詞\\t\\t\\t',\n",
       " 'い\\tイ\\tイル\\t居る\\t動詞-非自立可能\\t上一段-ア行\\t連用形-一般\\t0',\n",
       " 'ます\\tマス\\tマス\\tます\\t助動詞\\t助動詞-マス\\t終止形-一般\\t',\n",
       " '。\\t\\t\\t。\\t補助記号-句点\\t\\t\\t',\n",
       " 'MeCab\\tMeCab\\tMeCab\\tMeCab\\t名詞-普通名詞-一般\\t\\t\\t0',\n",
       " 'や\\tヤ\\tヤ\\tや\\t助詞-副助詞\\t\\t\\t',\n",
       " 'CaboCha\\tCaboCha\\tCaboCha\\tCaboCha\\t名詞-普通名詞-一般\\t\\t\\t0',\n",
       " 'を\\tオ\\tヲ\\tを\\t助詞-格助詞\\t\\t\\t',\n",
       " '用い\\tモチー\\tモチイル\\t用いる\\t動詞-一般\\t上一段-ア行\\t連用形-一般\\t3,0',\n",
       " 'て\\tテ\\tテ\\tて\\t助詞-接続助詞\\t\\t\\t',\n",
       " '手軽\\tテガル\\tテガル\\t手軽\\t形状詞-一般\\t\\t\\t0',\n",
       " 'に\\tニ\\tダ\\tだ\\t助動詞\\t助動詞-ダ\\t連用形-ニ\\t',\n",
       " '分析\\tブンセキ\\tブンセキ\\t分析\\t名詞-普通名詞-サ変可能\\t\\t\\t0',\n",
       " 'し\\tシ\\tスル\\t為る\\t動詞-非自立可能\\tサ行変格\\t連用形-一般\\t0',\n",
       " 'て\\tテ\\tテ\\tて\\t助詞-接続助詞\\t\\t\\t',\n",
       " 'み\\tミ\\tミル\\t見る\\t動詞-非自立可能\\t上一段-マ行\\t連用形-一般\\t1',\n",
       " 'たい\\tタイ\\tタイ\\tたい\\t助動詞\\t助動詞-タイ\\t終止形-一般\\t',\n",
       " 'と\\tト\\tト\\tと\\t助詞-格助詞\\t\\t\\t',\n",
       " '思い\\tオモイ\\tオモウ\\t思う\\t動詞-一般\\t五段-ワア行\\t連用形-一般\\t2',\n",
       " 'ます\\tマス\\tマス\\tます\\t助動詞\\t助動詞-マス\\t終止形-一般\\t',\n",
       " '。\\t\\t\\t。\\t補助記号-句点\\t\\t\\t',\n",
       " 'で\\tデ\\tデ\\tで\\t助詞-格助詞\\t\\t\\t',\n",
       " 'は\\tワ\\tハ\\tは\\t助詞-係助詞\\t\\t\\t',\n",
       " '早速\\tサッソク\\tサッソク\\t早速\\t副詞\\t\\t\\t0',\n",
       " 'はじめ\\tハジメ\\tハジメル\\t始める\\t動詞-非自立可能\\t下一段-マ行\\t連用形-一般\\t0',\n",
       " 'て\\tテ\\tテ\\tて\\t助詞-接続助詞\\t\\t\\t',\n",
       " 'いき\\tイキ\\tイク\\t行く\\t動詞-非自立可能\\t五段-カ行\\t連用形-一般\\t0',\n",
       " 'ます\\tマス\\tマス\\tます\\t助動詞\\t助動詞-マス\\t終止形-一般\\t',\n",
       " '。\\t\\t\\t。\\t補助記号-句点\\t\\t\\t']"
      ]
     },
     "execution_count": 9,
     "metadata": {},
     "output_type": "execute_result"
    }
   ],
   "source": [
    "tagger = MeCab.Tagger()\n",
    "parsed_txt = tagger.parse(txt)\n",
    "elements = parsed_txt.split('\\n')[:-2]\n",
    "elements"
   ]
  },
  {
   "cell_type": "code",
   "execution_count": 13,
   "metadata": {},
   "outputs": [
    {
     "data": {
      "text/plain": [
       "['私', 'ワタクシ', 'ワタクシ', '私-代名詞', '代名詞', '', '', '0']"
      ]
     },
     "execution_count": 13,
     "metadata": {},
     "output_type": "execute_result"
    }
   ],
   "source": [
    "element = elements[4]\n",
    "parts = element.split('\\t')\n",
    "parts\n",
    "# ['はじめ', 'ハジメ', 'ハジメル', '始める', '動詞-非自立可能', '下一段-マ行', '連用形-一般', '0']\n",
    "# ['私', 'ワタクシ', 'ワタクシ', '私-代名詞', '代名詞', '', '', '0']"
   ]
  },
  {
   "cell_type": "code",
   "execution_count": null,
   "metadata": {},
   "outputs": [],
   "source": [
    "surface = parts[0]\n",
    "pos = parts[3]\n",
    "pos1 = parts[4]\n",
    "base = parts[]"
   ]
  },
  {
   "cell_type": "code",
   "execution_count": 13,
   "metadata": {},
   "outputs": [
    {
     "ename": "IndexError",
     "evalue": "list index out of range",
     "output_type": "error",
     "traceback": [
      "\u001b[0;31m---------------------------------------------------------------------------\u001b[0m",
      "\u001b[0;31mIndexError\u001b[0m                                Traceback (most recent call last)",
      "Cell \u001b[0;32mIn[13], line 5\u001b[0m\n\u001b[1;32m      3\u001b[0m \u001b[39mfor\u001b[39;00m element \u001b[39min\u001b[39;00m elements:\n\u001b[1;32m      4\u001b[0m     parts \u001b[39m=\u001b[39m element\u001b[39m.\u001b[39msplit(\u001b[39m'\u001b[39m\u001b[39m,\u001b[39m\u001b[39m'\u001b[39m)\n\u001b[0;32m----> 5\u001b[0m     surface_pos, pos1, base \u001b[39m=\u001b[39m parts[\u001b[39m0\u001b[39m], parts[\u001b[39m1\u001b[39;49m], parts[\u001b[39m-\u001b[39m\u001b[39m3\u001b[39m]\n\u001b[1;32m      6\u001b[0m     surface, pos \u001b[39m=\u001b[39m surface_pos\u001b[39m.\u001b[39msplit(\u001b[39m'\u001b[39m\u001b[39m\\t\u001b[39;00m\u001b[39m'\u001b[39m)\n\u001b[1;32m      7\u001b[0m     results\u001b[39m.\u001b[39mappend(\u001b[39mdict\u001b[39m(表層形\u001b[39m=\u001b[39msurface, 基本形\u001b[39m=\u001b[39mbase, 品詞\u001b[39m=\u001b[39mpos, 品詞1\u001b[39m=\u001b[39mpos1))\n",
      "\u001b[0;31mIndexError\u001b[0m: list index out of range"
     ]
    }
   ],
   "source": [
    "results = []\n",
    "\n",
    "for element in elements:\n",
    "    parts = element.split(',')\n",
    "    surface_pos, pos1, base = parts[0], parts[1], parts[-3]\n",
    "    surface, pos = surface_pos.split('\\t')\n",
    "    results.append(dict(表層形=surface, 基本形=base, 品詞=pos, 品詞1=pos1))"
   ]
  },
  {
   "cell_type": "code",
   "execution_count": null,
   "metadata": {},
   "outputs": [],
   "source": []
  },
  {
   "cell_type": "code",
   "execution_count": null,
   "metadata": {},
   "outputs": [],
   "source": []
  },
  {
   "cell_type": "code",
   "execution_count": null,
   "metadata": {},
   "outputs": [],
   "source": []
  },
  {
   "cell_type": "code",
   "execution_count": null,
   "metadata": {},
   "outputs": [],
   "source": []
  },
  {
   "cell_type": "code",
   "execution_count": null,
   "metadata": {},
   "outputs": [],
   "source": []
  },
  {
   "cell_type": "code",
   "execution_count": null,
   "metadata": {},
   "outputs": [],
   "source": []
  },
  {
   "cell_type": "code",
   "execution_count": null,
   "metadata": {},
   "outputs": [],
   "source": []
  },
  {
   "cell_type": "code",
   "execution_count": null,
   "metadata": {},
   "outputs": [],
   "source": []
  },
  {
   "cell_type": "code",
   "execution_count": null,
   "metadata": {},
   "outputs": [],
   "source": []
  },
  {
   "cell_type": "code",
   "execution_count": null,
   "metadata": {},
   "outputs": [],
   "source": []
  },
  {
   "cell_type": "code",
   "execution_count": null,
   "metadata": {},
   "outputs": [],
   "source": []
  }
 ],
 "metadata": {
  "kernelspec": {
   "display_name": "nlp-test",
   "language": "python",
   "name": "python3"
  },
  "language_info": {
   "codemirror_mode": {
    "name": "ipython",
    "version": 3
   },
   "file_extension": ".py",
   "mimetype": "text/x-python",
   "name": "python",
   "nbconvert_exporter": "python",
   "pygments_lexer": "ipython3",
   "version": "3.10.6"
  },
  "orig_nbformat": 4
 },
 "nbformat": 4,
 "nbformat_minor": 2
}
